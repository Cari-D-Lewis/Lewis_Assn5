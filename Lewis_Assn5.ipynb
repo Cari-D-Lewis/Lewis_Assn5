{
 "cells": [
  {
   "cell_type": "markdown",
   "metadata": {},
   "source": [
    "## Cari Lewis Assignment 5\n",
    "### Thanksgiving Feast"
   ]
  },
  {
   "cell_type": "markdown",
   "metadata": {},
   "source": [
    "### Problem 1\n",
    "##### Figure out which guests will be eating turkey"
   ]
  },
  {
   "cell_type": "code",
   "execution_count": 13,
   "metadata": {},
   "outputs": [
    {
     "name": "stdout",
     "output_type": "stream",
     "text": [
      "It's turkey time!\n",
      "\n",
      "\n",
      "It looks like there will be 14 people eating turkey.\n",
      "\n",
      "\n"
     ]
    }
   ],
   "source": [
    "print(\"It's turkey time!\\n\\n\")\n",
    "#import the guest_list.txt as a new object\n",
    "filename='guest_list.txt'\n",
    "\n",
    "#open the new object and copy it to a new file within the script and close the original file\n",
    "with open(filename) as file_object:\n",
    "    guests=file_object.readlines()[1:]\n",
    "\n",
    "#create empty files to read the guest names and vegetarian preference    \n",
    "guest_name=[]\n",
    "guest_pref=[]\n",
    "\n",
    "#read through the new file \"guests\" and split the person's name from the vegetarian option\n",
    "for veg in guests:\n",
    "    guests_strip=veg.rstrip()\n",
    "    guests_split=guests_strip.split('\\t')\n",
    "    guest_name.append(guests_split[0])\n",
    "    guest_pref.append(guests_split[1])\n",
    "\n",
    "#use a conditional to iterate through the guestlist and determine who will be eating turkey\n",
    "#write the meat eaters to a new file to count the number of people\n",
    "meat_eaters=[]\n",
    "\n",
    "for meat in range(0,len(guest_name)):\n",
    "    if guest_pref[meat]=='No':\n",
    "        meat_eaters.append(guest_name[meat])\n",
    "    if guest_pref[meat]=='Sometimes':\n",
    "        meat_eaters.append(guest_name[meat])\n",
    "\n",
    "#set the value of meat eaters = to NUM to use in the next problem\n",
    "NUM=len(meat_eaters)\n",
    "\n",
    "print(\"It looks like there will be\", NUM, \"people eating turkey.\\n\\n\")"
   ]
  },
  {
   "cell_type": "markdown",
   "metadata": {},
   "source": [
    "### Problem 2\n",
    "##### Figure out what size turkey to buy"
   ]
  },
  {
   "cell_type": "code",
   "execution_count": 14,
   "metadata": {},
   "outputs": [
    {
     "name": "stdout",
     "output_type": "stream",
     "text": [
      "You will need a 20 pound turkey to feed 14 people.\n",
      "\n",
      "\n"
     ]
    }
   ],
   "source": [
    "#import the turkey_size.txt file as a new object\n",
    "filename1='turkey_size.txt'\n",
    "\n",
    "#open the new object and copy it to a new file within the script and close the original file\n",
    "with open(filename1) as file_object:\n",
    "    turkey=file_object.readlines()[1:]\n",
    "    \n",
    "#create empty files to read the number of guests and turkey size\n",
    "turkey_lbs=[]\n",
    "guest_num=[]\n",
    "\n",
    "#read through the new file \"guests\" and split the person's name from the vegetarian option\n",
    "for feed in turkey:\n",
    "    turkey_strip=feed.rstrip()\n",
    "    turkey_split=turkey_strip.split('\\t')\n",
    "    guest_num.append(turkey_split[0])\n",
    "    turkey_lbs.append(turkey_split[1])\n",
    "\n",
    "turk_needed=[]\n",
    "for PEEPS in range(0,len(guest_num)):\n",
    "        if int(guest_num[PEEPS])>NUM:\n",
    "            turk_needed.append(turkey_lbs[PEEPS])\n",
    "                \n",
    "LB=(turk_needed[0])\n",
    "#use the variable NUM to determine what size turkey to buy\n",
    "\n",
    "print(\"You will need a\", LB, \"pound turkey to feed\", NUM, \"people.\\n\\n\")"
   ]
  },
  {
   "cell_type": "markdown",
   "metadata": {},
   "source": [
    "### Problem 3\n",
    "##### Append the new RSVPs to the guest_list and figure out if you need a bigger turkey"
   ]
  },
  {
   "cell_type": "code",
   "execution_count": 15,
   "metadata": {},
   "outputs": [
    {
     "name": "stdout",
     "output_type": "stream",
     "text": [
      "Well shit. Larry, Moe and Curly RSVP'd late.\n",
      "\n",
      "\n",
      "Your new guestlist is:\n",
      "\n",
      "\n",
      "Fred\n",
      "Jamie\n",
      "Shelly\n",
      "Eileen\n",
      "Willard\n",
      "Mike\n",
      "Anna\n",
      "Marie\n",
      "Marian\n",
      "Jessica\n",
      "Alan\n",
      "Rebecca\n",
      "Bonnie\n",
      "Mark\n",
      "Leslie\n",
      "Rachel\n",
      "Olivia\n",
      "Chelsea\n",
      "Larry\n",
      "Moe\n",
      "Curly\n",
      "You now have 16 people that will eat turkey and need a 25 pound turkey.\n"
     ]
    }
   ],
   "source": [
    "print(\"Well shit. Larry, Moe and Curly RSVP'd late.\\n\\n\")\n",
    "#add the new guests and their turkey preferences to the original file\n",
    "new_RSVPs=open(filename, 'a')\n",
    "late_RSVPs=['Larry\\tNo\\n','Moe\\tYes\\n','Curly\\tSometimes\\n']\n",
    "new_RSVPs.writelines(late_RSVPs)\n",
    "\n",
    "with open(filename) as file_object:\n",
    "    guests=file_object.readlines()[1:]\n",
    "\n",
    "#re-count the number of people eating turkey (yeses and sometimes)\n",
    "#create empty files to read the guest names and vegetarian preference    \n",
    "guest_name=[]\n",
    "guest_pref=[]\n",
    "\n",
    "#read through the new file \"guests\" and split the person's name from the vegetarian option\n",
    "for veg in guests:\n",
    "    guests_strip=veg.rstrip()\n",
    "    guests_split=guests_strip.split('\\t')\n",
    "    guest_name.append(guests_split[0])\n",
    "    guest_pref.append(guests_split[1])\n",
    "\n",
    "print(\"Your new guestlist is:\\n\")\n",
    "COUNTER=0\n",
    "for name in guest_name:\n",
    "    print(guest_name[COUNTER])\n",
    "    COUNTER=COUNTER+1\n",
    "    \n",
    "#use a conditional to iterate through the guestlist and determine who will be eating turkey\n",
    "#write the meat eaters to a new file to count the number of people\n",
    "meat_eaters=[]\n",
    "\n",
    "for meat in range(0,len(guest_name)):\n",
    "    if guest_pref[meat]=='No':\n",
    "        meat_eaters.append(guest_name[meat])\n",
    "    if guest_pref[meat]=='Sometimes':\n",
    "        meat_eaters.append(guest_name[meat])\n",
    "\n",
    "#set the value of meat eaters = to NUM to use in the next problem\n",
    "NUM=len(meat_eaters)\n",
    "\n",
    "#re-determine the size of turkey needed to feed that number of people\n",
    "turk_needed=[]\n",
    "for PEEPS in range(0,len(guest_num)):\n",
    "        if int(guest_num[PEEPS])>NUM:\n",
    "            turk_needed.append(turkey_lbs[PEEPS])\n",
    "                \n",
    "LB=(turk_needed[0])\n",
    "\n",
    "print(\"\\nYou now have\", NUM, \"people that will eat turkey and need a\", LB, \"pound turkey.\")"
   ]
  }
 ],
 "metadata": {
  "kernelspec": {
   "display_name": "Python 3",
   "language": "python",
   "name": "python3"
  },
  "language_info": {
   "codemirror_mode": {
    "name": "ipython",
    "version": 3
   },
   "file_extension": ".py",
   "mimetype": "text/x-python",
   "name": "python",
   "nbconvert_exporter": "python",
   "pygments_lexer": "ipython3",
   "version": "3.8.3"
  }
 },
 "nbformat": 4,
 "nbformat_minor": 4
}
